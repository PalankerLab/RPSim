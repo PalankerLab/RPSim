{
 "cells": [
  {
   "cell_type": "markdown",
   "id": "a5eeb10d-b675-4a13-9615-01f347447af2",
   "metadata": {},
   "source": [
    "### (1) Install Python Packages (Run Once)"
   ]
  },
  {
   "cell_type": "markdown",
   "id": "e6d6e71a-1ae7-45f8-af3b-84ca4e7d0262",
   "metadata": {},
   "source": [
    "Run the section below to install needed Python packages"
   ]
  },
  {
   "cell_type": "code",
   "execution_count": null,
   "id": "61b0051d-f4e7-4571-9dee-86d302f22ae9",
   "metadata": {
    "scrolled": true,
    "tags": []
   },
   "outputs": [],
   "source": [
    "import sys\n",
    "!{sys.executable} -m pip install -r requirements.txt"
   ]
  },
  {
   "cell_type": "markdown",
   "id": "7afb218e-3df8-4c83-9f03-3639ccf3ba59",
   "metadata": {},
   "source": [
    "### (2) Edit Tool Configuration and Execute"
   ]
  },
  {
   "cell_type": "markdown",
   "id": "a518084d",
   "metadata": {},
   "source": [
    "#### (2.1) Generating or loading a video sequence\n",
    "\n",
    "You can choose to load pre-existing pattern by setting `generate_pattern = False` and providing the video sequence name.\n",
    "Or you can generate a new video sequence by specifiying the patterns following the hierarchical structure:\n",
    "\n",
    "- `ProjectionSequence()`\n",
    "    - `Frames()`\n",
    "        - `Subframes()`\n",
    "            - `Patterns()`\n",
    "\n",
    "Each level has its own parameters and contains a list of the lower-level strucutre. Please, do not forget to provide a video sequence name even if you generate a new one. \n",
    "\n",
    "Warning! Auto-completion is disabled when the magic command `%%writefile` is not commented.\n",
    "\n",
    "Please comment the first line ` %%writefile proj_seq_script.py` when designing the projection sequence, and then <span style=\"color:red\"> uncomment ` %%writefile proj_seq_script.py` when running the code. </span>"
   ]
  },
  {
   "cell_type": "code",
   "execution_count": 1,
   "id": "36368472",
   "metadata": {},
   "outputs": [
    {
     "name": "stdout",
     "output_type": "stream",
     "text": [
      "Overwriting proj_seq_script.py\n"
     ]
    }
   ],
   "source": [
    "%%writefile proj_seq_script.py\n",
    "import os\n",
    "path_projection_sequence_script = os.path.join(os.getcwd(), \"proj_seq_script.py\")\n",
    "\n",
    "from run_stages.pattern_generation_stage import Text, Grating, Rectangle, Circle, FullField, Subframe, Frame, ProjectionSequence\n",
    "\n",
    "generate_pattern = True\n",
    "video_sequence_name = [\"custom_06\"]\n",
    "\n",
    "if not generate_pattern:\n",
    "    os.remove(path_projection_sequence_script) \n",
    "\n",
    "\n",
    "text_shapes_subframes = [\n",
    "    Subframe(duration_ms=15, patterns=[Text(user_position=(0, 0), rotation=0, unit=\"pixel\", text=\"C\", gap_size = 1.5)]),\n",
    "    Subframe(duration_ms=15, patterns=[Rectangle(user_position=(2, 5), rotation=45, unit=\"um\", width=75, height=75),\n",
    "                                    Rectangle(user_position=(-2, 5), rotation=45, unit=\"pixel\", width=0.75, height=0.75)]),\n",
    "    Subframe(duration_ms=15, patterns=[Circle(user_position=(2, -5.5), unit=\"um\", diameter=150),\n",
    "                                    Circle(user_position=(-2, -5.5), unit=\"pixel\", diameter=1.5)]),\n",
    "    Subframe(duration_ms=30, patterns=[Text((-5, 0), 90, \"THIS IS \\n\\nA SIMPLE TEST.\", unit=\"um\", letter_size=100),\n",
    "                                    Text((5.5, 0), -90, \"THIS IS \\nA SIMPLE TEST.\", unit=\"pixel\", letter_size=1), \n",
    "                                    ]),\n",
    "    Subframe(duration_ms=10, patterns=[FullField(\"white\")]),\n",
    "    Subframe(duration_ms=15, patterns=[FullField(\"black\")])\n",
    "\n",
    "]\n",
    "grating_subframes = [\n",
    "    Subframe(duration_ms=35, patterns=[Grating(user_position=(1.5, 0), rotation=45, unit=\"um\", width_grating=75, pitch_grating=75)]),\n",
    "    Subframe(duration_ms=40, patterns=[Grating(user_position=(0,0), rotation= -60, unit=\"pixel\", width_grating=1, pitch_grating=1)]),\n",
    "    Subframe(duration_ms=25, patterns=[FullField(\"black\")])\n",
    "]\n",
    "list_of_frames = [\n",
    "    Frame(name=\"00_Text_shapes\", repetitions=1, subframes=text_shapes_subframes),\n",
    "    Frame(name=\"01_Grating\", repetitions=2, subframes=grating_subframes)\n",
    "]\n",
    "\n",
    "#list_projections =  [ProjectionSequence(intensity=1.0, frequency=10, frames=list_of_frames), ProjectionSequence(intensity=3.0, frequency=10, frames=list_of_frames)]\n",
    "list_projections =  [ProjectionSequence(intensity=1.0, frequency=10, frames=list_of_frames)] # TODO change frame_period to freq"
   ]
  },
  {
   "cell_type": "markdown",
   "id": "19c20d86",
   "metadata": {},
   "source": [
    "#### (2.2) Other configuration settings"
   ]
  },
  {
   "cell_type": "code",
   "execution_count": 2,
   "id": "481baed5",
   "metadata": {
    "collapsed": false
   },
   "outputs": [
    {
     "name": "stderr",
     "output_type": "stream",
     "text": [
      "[2023-11-14 10:41:21] INFO       run_rpsim        Staring a new run\n",
      "[2023-11-14 10:41:21] INFO       run_rpsim        Output directory: /Users/quentindevaud/Desktop/EPFL/Master/MA5/Computational/RPSim/user_files/user_output/10_41_21-2023_11_14\n",
      "[2023-11-14 10:41:21] INFO       run_rpsim        Requested run stages: ['pattern_generation', 'resistive_mesh', 'current_sequence', 'circuit', 'simulation', 'post_process', 'plot_results']\n",
      "[2023-11-14 10:41:21] INFO       run_rpsim        Running the following configuration\n",
      "+--------------------------------+--------------------------------------------------------------------------------------------------------------------------------------+\n",
      "| model                          | bipolar                                                                                                                              |\n",
      "| pixel_size                     | 100                                                                                                                                  |\n",
      "| pixel_size_suffix              |                                                                                                                                      |\n",
      "| frame_width                    | 1000                                                                                                                                 |\n",
      "| geometry                       | Flat_human                                                                                                                           |\n",
      "| number_of_diodes               | 2                                                                                                                                    |\n",
      "| sirof_capacitance              | 6                                                                                                                                    |\n",
      "| photosensitive_area_edge_to_ed | 92                                                                                                                                   |\n",
      "| ge                             |                                                                                                                                      |\n",
      "| active_electrode_radius        | 17                                                                                                                                   |\n",
      "| light_to_current_conversion_ra | 0.4                                                                                                                                  |\n",
      "| te                             |                                                                                                                                      |\n",
      "| photosensitive_area            | 4075.72                                                                                                                              |\n",
      "| r_matrix_output_file           | R_Flat_human_PS100.pkl                                                                                                               |\n",
      "| r_matrix_conductivity          | 1                                                                                                                                    |\n",
      "| Ipho_scaling                   | 1                                                                                                                                    |\n",
      "| Isat                           | 0.02                                                                                                                                 |\n",
      "| ideality_factor                | 1.14                                                                                                                                 |\n",
      "| shunt_resistance               | 790150.0                                                                                                                             |\n",
      "| initial_Vactive                | 0.4                                                                                                                                  |\n",
      "| temperature                    | 37                                                                                                                                   |\n",
      "| nominal_temperature            | 25                                                                                                                                   |\n",
      "| simulation_duration_sec        | 0.5                                                                                                                                  |\n",
      "| simulation_resolution_ms       | None                                                                                                                                 |\n",
      "| user_files_path                | /Users/quentindevaud/Desktop/EPFL/Master/MA5/Computational/RPSim/user_files                                                          |\n",
      "| video_sequence_name            | custom_06                                                                                                                            |\n",
      "| generate_pattern               | True                                                                                                                                 |\n",
      "| path_projection_sequence_scrip | /Users/quentindevaud/Desktop/EPFL/Master/MA5/Computational/RPSim/proj_seq_script.py                                                  |\n",
      "| t                              |                                                                                                                                      |\n",
      "| font_path                      | /Users/quentindevaud/Desktop/EPFL/Master/MA5/Computational/RPSim/utilities/Sloan.otf                                                 |\n",
      "| pixel_label_input_file         | /Users/quentindevaud/Desktop/EPFL/Master/MA5/Computational/RPSim/user_files/user_input/image_sequence/pixel_label_PS100.pkl          |\n",
      "| additional_edges               | 142                                                                                                                                  |\n",
      "| r_matrix_input_file_active     | /Users/quentindevaud/Desktop/EPFL/Master/MA5/Computational/RPSim/user_files/user_input/r_matrix/COMSOL_results/Flat_human_PS100_UCD_ |\n",
      "|                                | active.csv                                                                                                                           |\n",
      "| r_matrix_input_file_return     | /Users/quentindevaud/Desktop/EPFL/Master/MA5/Computational/RPSim/user_files/user_input/r_matrix/COMSOL_results/Flat_human_PS100_UCD_ |\n",
      "|                                | return.csv                                                                                                                           |\n",
      "| r_matrix_input_file_return_nei | /Users/quentindevaud/Desktop/EPFL/Master/MA5/Computational/RPSim/user_files/user_input/r_matrix/COMSOL_results/Flat_human_PS100_UCD_ |\n",
      "| ghbor                          | return_neighbor.csv                                                                                                                  |\n",
      "| r_matrix_input_file_px_pos     | /Users/quentindevaud/Desktop/EPFL/Master/MA5/Computational/RPSim/user_files/user_input/r_matrix/COMSOL_results/PS100_pos.csv         |\n",
      "| stimulation_duration_in_ms     | 9.8                                                                                                                                  |\n",
      "| analyze_time_dynamics          | False                                                                                                                                |\n",
      "| pulse_start_time_in_ms         | 200                                                                                                                                  |\n",
      "| depth_values_in_um             | None                                                                                                                                 |\n",
      "| user_input_path                | /Users/quentindevaud/Desktop/EPFL/Master/MA5/Computational/RPSim/user_files/user_input                                               |\n",
      "| user_output_path               | /Users/quentindevaud/Desktop/EPFL/Master/MA5/Computational/RPSim/user_files/user_output                                              |\n",
      "| number_of_pixels               | 205                                                                                                                                  |\n",
      "+--------------------------------+--------------------------------------------------------------------------------------------------------------------------------------+\n",
      "\n",
      "[2023-11-14 10:41:21] INFO       run_rpsim        Running Pattern_Generation Stage\n",
      "[2023-11-14 10:41:22] INFO       run_rpsim        Running Resistive_Mesh Stage\n",
      "[2023-11-14 10:41:23] INFO       run_rpsim        Running Current_Sequence Stage\n",
      "[2023-11-14 10:41:28] INFO       run_rpsim        Running Circuit Stage\n",
      "[2023-11-14 10:41:30] INFO       run_rpsim        Running Simulation Stage\n",
      "\n",
      "Netlist warning: No print specified\n",
      "[2023-11-14 10:41:35] ERROR      run_rpsim        [Errno 2] No such file or directory: '/var/folders/nf/kn8w1q2x0c115twj9835zngm0000gn/T/tmpktwhn2ft/output.raw'\n",
      "[2023-11-14 10:41:35] INFO       run_rpsim        Execution time is 0.23 minutes\n"
     ]
    },
    {
     "name": "stdout",
     "output_type": "stream",
     "text": [
      "Simulation Stage execution failed with the following error: [Errno 2] No such file or directory: '/var/folders/nf/kn8w1q2x0c115twj9835zngm0000gn/T/tmpktwhn2ft/output.raw'\n"
     ]
    }
   ],
   "source": [
    "%run proj_seq_script.py\n",
    "\n",
    "### CONFIGURATION\n",
    "configuration = {}\n",
    "\n",
    "# geometry-defined configuration\n",
    "configuration[\"model\"]                            = \"bipolar\"     # model geometry: monopolar or bipolar\n",
    "configuration[\"pixel_size\"]                       = 100           # pixel size\n",
    "configuration[\"pixel_size_suffix\"]                = \"\"         # If large format is required, use \"-lg\", else use \"\" \n",
    "configuration[\"frame_width\"]                      = 1000          # implant radius in mm\n",
    "configuration[\"geometry\"]                         = \"Flat_human\"  # geometry settings: HC/Pillar/Flat devices in pdish/rat/human\n",
    "configuration[\"number_of_diodes\"]                 = 2             # number of photo diodes per pixel\n",
    "configuration[\"sirof_capacitance\"]                = 6             # SIROF capacitance in mF/cm^2\n",
    "configuration[\"photosensitive_area_edge_to_edge\"] = 92            # edge-to-edge size of the photosensitive area\n",
    "configuration[\"active_electrode_radius\"]          = 17            # radius of the active electrode in um\n",
    "configuration[\"light_to_current_conversion_rate\"] = 0.4           # light to current conversion rate in A/W\n",
    "configuration[\"photosensitive_area\"]              = 4075.72       # total photosensitive area in um^2. Assign \"None\" for auto calculation\n",
    "\n",
    "# R matrix parameters\n",
    "configuration[\"r_matrix_output_file\"]             = f'R_{configuration[\"geometry\"]}_PS{configuration[\"pixel_size\"]}{configuration[\"pixel_size_suffix\"]}.pkl' \n",
    "configuration[\"r_matrix_conductivity\"]            = 1             # conductivity scaling factor of the electrolyte\n",
    "\n",
    "# dynamic simulation configuration\n",
    "configuration[\"Ipho_scaling\"]                     = 1             # artificial scaling of photo current, useful for parametric sweep (e.g. S-D curve)\n",
    "configuration[\"Isat\"]                             = 0.02          # diode saturation current in pA\n",
    "configuration[\"ideality_factor\"]                  = 1.14          # ideality factor n of the diode\n",
    "configuration[\"shunt_resistance\"]                 = 790.15E3      # shunt resistance in Ohm. Assign \"None\" if no shunt\n",
    "configuration[\"initial_Vactive\"]                  = .4            # Initial bias of the active electrode in V\n",
    "configuration[\"temperature\"]                      = 37\n",
    "configuration[\"nominal_temperature\"]              = 25\n",
    "configuration[\"simulation_duration_sec\"]          = 0.5           # simulation duration in seconds\n",
    "configuration[\"simulation_resolution_ms\"]         = None          # None defaults to Xyce inner value\n",
    "\n",
    "# input paths\n",
    "configuration[\"user_files_path\"]                  = None          # If set to None, defaults to inner user_files directory\n",
    "\n",
    "#### Projection sequences related ####\n",
    "\n",
    "configuration[\"video_sequence_name\"]              = video_sequence_name\n",
    "configuration[\"generate_pattern\"]                 = generate_pattern\n",
    "configuration[\"projection_sequences\"]             = list_projections\n",
    "configuration[\"path_projection_sequence_script\"]  = path_projection_sequence_script\n",
    "configuration[\"font_path\"]                        = os.path.abspath(\"utilities/Sloan.otf\")\n",
    "\n",
    "configuration[\"pixel_label_input_file\"]           = f'image_sequence/pixel_label_PS{configuration[\"pixel_size\"]}{configuration[\"pixel_size_suffix\"]}.pkl'\n",
    "\n",
    "# define input files for monopolar arrays\n",
    "configuration[\"monopolar\"] = \\\n",
    "    {\n",
    "    \"return_to_active_area_ratio\": 1.465123,                      # ratio between return area and total active\n",
    "        # area\n",
    "    \"r_matrix_input_file_diagonal\": f'r_matrix/COMSOL_results/{configuration[\"geometry\"]}_PS{configuration[\"pixel_size\"]}_EP_self.csv',\n",
    "    \"r_matrix_input_file_non_diagonal\": f'r_matrix/COMSOL_results/{configuration[\"geometry\"]}_PS{configuration[\"pixel_size\"]}_EP_Rmat.csv',\n",
    "    \"r_matrix_simp_ratio\": 0.1\n",
    "    }\n",
    "\n",
    "# define input files for bipolar arrays\n",
    "configuration[\"bipolar\"] = \\\n",
    "    {\n",
    "    \"additional_edges\": 142,                                     # bipolar only: edge segments of the return\n",
    "    \"r_matrix_input_file_active\": f'r_matrix/COMSOL_results/{configuration[\"geometry\"]}_PS{configuration[\"pixel_size\"]}_UCD_active.csv', #\n",
    "    \"r_matrix_input_file_return\": f'r_matrix/COMSOL_results/{configuration[\"geometry\"]}_PS{configuration[\"pixel_size\"]}_UCD_return.csv', #\n",
    "    \"r_matrix_input_file_return_neighbor\": f'r_matrix/COMSOL_results/{configuration[\"geometry\"]}_PS{configuration[\"pixel_size\"]}_UCD_return_neighbor.csv', #\n",
    "    #\"r_matrix_input_file_return_near\": f'r_matrix/COMSOL_results/{configuration[\"geometry\"]}_PS{configuration[\"pixel_size\"]}_UCD_return_near.csv', #\n",
    "    \"r_matrix_input_file_px_pos\": f'r_matrix/COMSOL_results/PS{configuration[\"pixel_size\"]}{configuration[\"pixel_size_suffix\"]}_pos.csv' # \n",
    "    }\n",
    "\n",
    "# post-process parameters\n",
    "configuration[\"post_process\"] = \\\n",
    "    {\n",
    "    \"stimulation_duration_in_ms\": 9.8,\n",
    "    \"analyze_time_dynamics\": False,\n",
    "    \"pulse_start_time_in_ms\": 200,\n",
    "    \"depth_values_in_um\": None                                      # if None, defaults to all available in model\n",
    "    }\n",
    "\n",
    "\n",
    "### EXECUTION\n",
    "from RPSim import run_rpsim\n",
    "run_stages = None\n",
    "run_rpsim(configuration=configuration, run_stages=run_stages)"
   ]
  },
  {
   "cell_type": "code",
   "execution_count": null,
   "id": "5bc4c698",
   "metadata": {},
   "outputs": [],
   "source": []
  }
 ],
 "metadata": {
  "kernelspec": {
   "display_name": "EE512",
   "language": "python",
   "name": "python3"
  },
  "language_info": {
   "codemirror_mode": {
    "name": "ipython",
    "version": 3
   },
   "file_extension": ".py",
   "mimetype": "text/x-python",
   "name": "python",
   "nbconvert_exporter": "python",
   "pygments_lexer": "ipython3",
   "version": "3.9.7"
  },
  "vscode": {
   "interpreter": {
    "hash": "68c40874733f90c07c0188d1770934bf30bb87b6f268b7bf91010f1b0cbe33aa"
   }
  }
 },
 "nbformat": 4,
 "nbformat_minor": 5
}
