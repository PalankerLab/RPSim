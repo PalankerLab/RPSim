{
 "cells": [
  {
   "cell_type": "markdown",
   "id": "a5eeb10d-b675-4a13-9615-01f347447af2",
   "metadata": {},
   "source": [
    "### (1) Install Python Packages (Run Once)"
   ]
  },
  {
   "cell_type": "markdown",
   "id": "e6d6e71a-1ae7-45f8-af3b-84ca4e7d0262",
   "metadata": {},
   "source": [
    "Run the section below to install needed Python packages"
   ]
  },
  {
   "cell_type": "code",
   "execution_count": null,
   "id": "61b0051d-f4e7-4571-9dee-86d302f22ae9",
   "metadata": {
    "scrolled": true,
    "tags": []
   },
   "outputs": [],
   "source": [
    "import sys\n",
    "!{sys.executable} -m pip install -r requirements.txt"
   ]
  },
  {
   "cell_type": "markdown",
   "id": "7afb218e-3df8-4c83-9f03-3639ccf3ba59",
   "metadata": {},
   "source": [
    "### (2) Edit Tool Configuration and Execute"
   ]
  },
  {
   "cell_type": "code",
   "execution_count": null,
   "outputs": [],
   "source": [
    "### CONFIGURATION\n",
    "configuration = {}\n",
    "\n",
    "# geometry-defined configuration\n",
    "configuration[\"model\"]                            = \"bipolar\"     # model geometry: monopolar or bipolar\n",
    "configuration[\"pixel_size\"]                       = 100           # pixel size\n",
    "configuration[\"frame_width\"]                      = 1000          # implant radius in mm\n",
    "configuration[\"geometry\"]                         = \"Flat_human\"  # geometry settings: HC/Pillar/Flat devices in pdish/rat/human\n",
    "configuration[\"number_of_diodes\"]                 = 2             # number of photo diodes per pixel\n",
    "configuration[\"sirof_capacitance\"]                = 6             # SIROF capacitance in mF/cm^2\n",
    "configuration[\"photosensitive_area_edge_to_edge\"] = 92            # edge-to-edge size of the photosensitive area\n",
    "configuration[\"active_electrode_radius\"]          = 17            # radius of the active electrode in um\n",
    "configuration[\"light_to_current_conversion_rate\"] = 0.4           # light to current conversion rate in A/W\n",
    "configuration[\"photosensitive_area\"]              = 4075.72       # total photosensitive area in um^2. Assign \"None\" for auto calculation\n",
    "\n",
    "# R matrix parameters\n",
    "configuration[\"r_matrix_output_file\"]             = f'R_{configuration[\"geometry\"]}_PS{configuration[\"pixel_size\"]}.pkl'\n",
    "configuration[\"r_matrix_conductivity\"]            = 1             # conductivity scaling factor of the electrolyte\n",
    "\n",
    "# dynamic simulation configuration\n",
    "configuration[\"Ipho_scaling\"]                     = 1  # artificial scaling of photo current, useful for\n",
    "                                                     # parametric sweep (e.g. S-D curve)\n",
    "configuration[\"Isat\"]                             = 0.02          # diode saturation current in pA\n",
    "configuration[\"ideality_factor\"]                  = 1.14          # ideality factor n of the diode\n",
    "configuration[\"shunt_resistance\"]                 = 790.15E3      # shunt resistance in Ohm. Assign \"None\" if no shunt\n",
    "configuration[\"initial_Vactive\"]                  = .4            # Initial bias of the active electrode in V\n",
    "configuration[\"temperature\"]                      = 37\n",
    "configuration[\"nominal_temperature\"]              = 25\n",
    "configuration[\"simulation_duration_sec\"]          = 0.5           # simulation duration in seconds\n",
    "configuration[\"simulation_resolution_ms\"]         = None          # None defaults to Xyce inner value\n",
    "\n",
    "# input paths\n",
    "configuration[\"user_files_path\"]                  = \"\"\n",
    "\n",
    "# If set to None, defaults to inner user_files directory$\n",
    "configuration[\"video_sequence_name\"]              = \"input_sample_1\"\n",
    "#examplary\n",
    "# input\n",
    "# sequence\n",
    "configuration[\"pixel_label_input_file\"]           = f'image_sequence/pixel_label_PS{configuration[\"pixel_size\"]}-lg.pkl'\n",
    "\n",
    "# define input files for monopolar arrays\n",
    "configuration[\"monopolar\"] = \\\n",
    "    {\n",
    "    \"return_to_active_area_ratio\": 1.465123,                      # ratio between return area and total active\n",
    "        # area\n",
    "    \"r_matrix_input_file_diagonal\": f'r_matrix/COMSOL_results/{configuration[\"geometry\"]}_PS{configuration[\"pixel_size\"]}_EP_self.csv',\n",
    "    \"r_matrix_input_file_non_diagonal\": f'r_matrix/COMSOL_results/{configuration[\"geometry\"]}_PS{configuration[\"pixel_size\"]}_EP_Rmat.csv',\n",
    "    \"r_matrix_simp_ratio\": 0.1\n",
    "    }\n",
    "\n",
    "# define input files for bipolar arrays\n",
    "configuration[\"bipolar\"] = \\\n",
    "    {\n",
    "    \"additional_edges\": 142,                                     # bipolar only: edge segments of the return\n",
    "    \"r_matrix_input_file_active\": f'r_matrix/COMSOL_results/{configuration[\"geometry\"]}_PS{configuration[\"pixel_size\"]}_UCD_active.csv',\n",
    "    \"r_matrix_input_file_return\": f'r_matrix/COMSOL_results/{configuration[\"geometry\"]}_PS{configuration[\"pixel_size\"]}_UCD_return.csv',\n",
    "    \"r_matrix_input_file_return_neighbor\": f'r_matrix/COMSOL_results/{configuration[\"geometry\"]}_PS{configuration[\"pixel_size\"]}_UCD_return_neighbor.csv',\n",
    "    \"r_matrix_input_file_return_near\": f'r_matrix/COMSOL_results/{configuration[\"geometry\"]}_PS{configuration[\"pixel_size\"]}_UCD_return_near.csv',\n",
    "    \"r_matrix_input_file_px_pos\": f'r_matrix/COMSOL_results/PS{configuration[\"pixel_size\"]}-lg_pos.csv'\n",
    "    }\n",
    "\n",
    "# post-process parameters\n",
    "configuration[\"post_process\"] = \\\n",
    "    {\n",
    "    \"pulse_start_time_in_ms\": 200,\n",
    "    \"pulse_duration_in_ms\": 9.8,\n",
    "    \"average_over_pulse_duration\": True,\n",
    "    \"analyze_time_dynamics\": False,\n",
    "    \"depth_values_in_um\": None,                                     # if None, defaults to all available in model\n",
    "    \"on_diode_threshold_mV\": 50\n",
    "    }\n",
    "\n",
    "\n",
    "### EXECUTION\n",
    "from RPSim import run_rpsim\n",
    "run_stages = None\n",
    "run_rpsim(configuration=configuration, run_stages=run_stages)"
   ],
   "metadata": {
    "collapsed": false
   }
  },
  {
   "cell_type": "code",
   "execution_count": null,
   "outputs": [],
   "source": [],
   "metadata": {
    "collapsed": false
   }
  }
 ],
 "metadata": {
  "interpreter": {
   "hash": "40d3a090f54c6569ab1632332b64b2c03c39dcf918b08424e98f38b5ae0af88f"
  },
  "kernelspec": {
   "display_name": "Python 3.8.8 ('base')",
   "language": "python",
   "name": "python3"
  },
  "language_info": {
   "codemirror_mode": {
    "name": "ipython",
    "version": 3
   },
   "file_extension": ".py",
   "mimetype": "text/x-python",
   "name": "python",
   "nbconvert_exporter": "python",
   "pygments_lexer": "ipython3",
   "version": "3.8.8"
  }
 },
 "nbformat": 4,
 "nbformat_minor": 5
}
